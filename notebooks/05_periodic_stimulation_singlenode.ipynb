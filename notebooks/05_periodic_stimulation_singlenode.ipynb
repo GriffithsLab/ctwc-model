{
 "cells": [
  {
   "cell_type": "markdown",
   "metadata": {},
   "source": [
    "# Periodic Stimulation"
   ]
  },
  {
   "cell_type": "markdown",
   "metadata": {},
   "source": [
    "## Setup"
   ]
  },
  {
   "cell_type": "markdown",
   "metadata": {},
   "source": [
    "Importage"
   ]
  },
  {
   "cell_type": "code",
   "execution_count": 1,
   "metadata": {},
   "outputs": [
    {
     "name": "stderr",
     "output_type": "stream",
     "text": [
      "/nethome/kcni/jgriffiths/Software/miniconda3/envs/jupyter_py3/lib/python3.7/site-packages/sklearn/externals/joblib/__init__.py:15: DeprecationWarning: sklearn.externals.joblib is deprecated in 0.21 and will be removed in 0.23. Please import this functionality directly from joblib, which can be installed with: pip install joblib. If this warning is raised when loading pickled models, you may need to re-serialize those models with scikit-learn 0.21+.\n",
      "  warnings.warn(msg, category=DeprecationWarning)\n"
     ]
    }
   ],
   "source": [
    "# Generic stuff\n",
    "import os,sys,glob, numpy as np, pandas as pd\n",
    "from scipy.io import loadmat\n",
    "from itertools import product\n",
    "from scipy.interpolate import interp1d\n",
    "from copy import deepcopy\n",
    "import nibabel as nib\n",
    "\n",
    "# Viz stuff\n",
    "%matplotlib inline\n",
    "from matplotlib import pyplot as plt\n",
    "from matplotlib import cm\n",
    "import seaborn as sns\n",
    "\n",
    "\n",
    "# CTWC model code\n",
    "sys.path.append('../ctwc')\n",
    "from ctwc_model import (run_net_sim,decimate_surface,plot_surface_mpl,plot_surface_mpl_mv,\n",
    "                           make_brain_movie,sim_summary,FreqVsAmpPsweep)"
   ]
  },
  {
   "cell_type": "markdown",
   "metadata": {},
   "source": [
    "Define some variables"
   ]
  },
  {
   "cell_type": "code",
   "execution_count": 2,
   "metadata": {},
   "outputs": [],
   "source": [
    "# 1-node weights & delays\n",
    "weights_1N = np.array([[1.]])\n",
    "delays_1N = np.array([[1.]])"
   ]
  },
  {
   "cell_type": "code",
   "execution_count": 3,
   "metadata": {},
   "outputs": [],
   "source": [
    "cv = 4.\n",
    "\n",
    "# this rearanges the l2k8 indices to match the sorted aparc labels used in the meg analysis\n",
    "\n",
    "l2k8_to_aparc_sort_idx = np.array([22, 21, 20, 23, 18, 17, 19, 14, 24, 30, 16, 28, 10, 25, 15, 13, 29,\n",
    "       32, 31,  9, 26, 33, 27,  8,  5, 12,  7,  4,  3, 11,  0,  1,  6,  2,\n",
    "       64, 62, 63, 65, 60, 59, 61, 56, 66, 72, 58, 70, 67, 71, 52, 57, 55,\n",
    "       74, 73, 51, 68, 75, 69, 50, 47, 54, 49, 46, 53, 42, 43, 45, 48, 44])\n",
    "\n",
    "orig_to_abey_idx = np.array([46, 32, 50, 58, 16,  6, 22, 42, 26, 20, 12, 34, 16,  8, 64, 18, 60,\n",
    "       66, 30,  0, 62, 44, 48,  4, 56,  2, 54, 36, 40, 38, 24, 28, 52, 10,\n",
    "       47, 33, 51, 59, 15,  7, 23, 43, 27, 21, 13, 35, 17,  9, 65, 19, 61,\n",
    "       67, 31,  1, 63, 45, 49,  5, 57,  3, 55, 37, 41, 39, 25, 29, 53, 11])\n",
    "\n",
    "l2k8_to_abey_idx = np.array([13, 10, 19, 17, 28, 20, 22, 21, 23, 14, 24, 25, 28, 26, 27, 33, 31,\n",
    "       32, 29, 30, 16, 15,  9,  8,  7, 12,  6,  5,  4,  1,  0,  3, 11,  2,\n",
    "       55, 52, 61, 59, 60, 62, 64, 63, 65, 56, 66, 67, 70, 68, 69, 75, 73,\n",
    "       74, 71, 72, 58, 57, 51, 50, 49, 54, 48, 47, 46, 43, 42, 45, 53, 44])\n",
    "\n",
    "l2k8_in_orig = np.array([ 0,  1,  2,  3,  4,  5,  6,  7,  8,  9, 10, 11, 12, 13, 14, 15, 16,\n",
    "       17, 18, 19, 20, 21, 22, 23, 24, 25, 26, 27, 28, 29, 30, 31, 32, 33,\n",
    "       42, 43, 44, 45, 46, 47, 48, 49, 50, 51, 52, 53, 54, 55, 56, 57, 58,\n",
    "       59, 60, 61, 62, 63, 64, 65, 66, 67, 68, 69, 70, 71, 72, 73, 74, 75])\n",
    "\n",
    "\n",
    "sfreq = 1000.    \n",
    "freq_bands = {'delta': (2, 4),\n",
    "              'theta': (5, 7),\n",
    "              'alpha': (8, 12),\n",
    "              'beta': (15, 29),\n",
    "              'gamma': (30, 45)}\n",
    "\n",
    "freqs = freq_bands.keys()"
   ]
  },
  {
   "cell_type": "markdown",
   "metadata": {},
   "source": [
    "Load SC data"
   ]
  },
  {
   "cell_type": "code",
   "execution_count": 4,
   "metadata": {},
   "outputs": [],
   "source": [
    "l2k8_w = np.loadtxt('../data/hcp_grpavg_l2k8_sc33_weights.npy')\n",
    "\n",
    "l2k8_tl = np.loadtxt('../data/hcp_grpavg_l2k8_sc33_tractlengths.npy')\n",
    "\n",
    "df_l2k8_w = pd.DataFrame(l2k8_w)\n",
    "\n",
    "df_l2k8_tl = pd.DataFrame(l2k8_tl)\n",
    "\n",
    "df_l2k8_w *= ((np.eye(83)*-1) + 1)\n",
    "df_l2k8_wlog = np.log1p(df_l2k8_w)\n",
    "\n",
    "df_l2k8_wlog_divmax = df_l2k8_wlog.copy()\n",
    "df_l2k8_wlog_divmax/= df_l2k8_wlog.max()\n",
    "\n",
    "\n",
    "df_l2k8_del = df_l2k8_tl / cv\n",
    "\n",
    "_df_d = df_l2k8_del.copy()\n",
    "_df_d[df_l2k8_wlog_divmax<0.2] = 0.\n",
    "\n",
    "_df_w = df_l2k8_wlog_divmax.copy()\n",
    "_df_w[_df_w<0.2] = 0"
   ]
  },
  {
   "cell_type": "code",
   "execution_count": 5,
   "metadata": {},
   "outputs": [],
   "source": [
    "l2k8_lV1_idx = 21 # pericalcarine\n",
    "l2k8_lM1_idx = 24 # precentral\n",
    "l2k8_lA1_idx = 30 # superiortemporal\n",
    "l2k8_lS1_idx = 22 # postcentral\n",
    "l2k8_lDLPFC_idx = 12 # lateralorbitofrontal\n",
    "l2k8_lVLPFC_idx = 19 # parsorbitalis\n",
    "\n",
    "focal_nodes = [l2k8_lV1_idx,l2k8_lA1_idx,l2k8_lM1_idx,l2k8_lS1_idx,\n",
    "               l2k8_lDLPFC_idx,l2k8_lVLPFC_idx]\n",
    "focal_node_names = ['lV1','lA1','lM1','lS1','lDLPFC','lVLPFC']\n",
    "\n",
    "\n",
    "# low resolution = sparser set ('short')\n",
    "freqs_s = np.arange(0.01,100.,10./3.)\n",
    "amps_s = np.arange(0,3,0.1) \n",
    "\n",
    "# high resolution = denser set ('long')\n",
    "freqs_l = np.arange(0,100,1)\n",
    "amps_l = np.arange(0.,2.05,0.05)\n",
    "\n",
    "# 1-node weights & delays\n",
    "weights_1N = np.array([[1.]])\n",
    "delays_1N = np.array([[1.]])\n",
    "\n",
    "weights_l2k8 = _df_w.values\n",
    "delays_l2k8  = _df_d.values\n",
    "n_nodes_l2k8 = weights_l2k8.shape[0]"
   ]
  },
  {
   "cell_type": "code",
   "execution_count": 6,
   "metadata": {},
   "outputs": [
    {
     "data": {
      "text/plain": [
       "array([0, 0, 0, ..., 1, 1, 1], dtype=int32)"
      ]
     },
     "execution_count": 6,
     "metadata": {},
     "output_type": "execute_result"
    }
   ],
   "source": [
    "lhi_file = '../data/fsav5_lh.inflated'\n",
    "rhi_file = '../data/fsav5_rh.inflated'\n",
    "\n",
    "lhp_file = '../data/fsav5_lh.pial'\n",
    "rhp_file = '../data/fsav5_rh.pial'\n",
    "\n",
    "lh_annot_file = '../data/fsav5_lh.aparc.annot'\n",
    "rh_annot_file = '../data/fsav5_rh.aparc.annot'\n",
    "\n",
    "lhi_vtx,lhi_tri = nib.freesurfer.read_geometry(lhi_file)\n",
    "rhi_vtx,rhi_tri = nib.freesurfer.read_geometry(rhi_file)\n",
    "\n",
    "lhp_vtx,lhp_tri = nib.freesurfer.read_geometry(lhp_file)\n",
    "rhp_vtx,rhp_tri = nib.freesurfer.read_geometry(rhp_file)\n",
    "\n",
    "lh_annot = nib.freesurfer.read_annot(lh_annot_file)\n",
    "rh_annot = nib.freesurfer.read_annot(rh_annot_file)\n",
    "\n",
    "vtx_l2k8_lh = lhp_vtx\n",
    "tri_l2k8_lh = lhp_tri\n",
    "rm_l2k8_lh = lh_annot[0]\n",
    "\n",
    "\n",
    "vtx_l2k8_rh = rhp_vtx\n",
    "tri_l2k8_rh = rhp_tri\n",
    "rm_l2k8_rh = rh_annot[0]\n",
    "\n",
    "vtx_l2k8_lhrh = np.concatenate([vtx_l2k8_lh,vtx_l2k8_rh], axis=0)\n",
    "tri_l2k8_lhrh = np.concatenate([tri_l2k8_lh,tri_l2k8_rh+10242],axis=0)\n",
    "\n",
    "rm_l2k8_rh_p1 = rm_l2k8_rh + 36\n",
    "rm_l2k8_rh_p1[rm_l2k8_rh == 0] = 0\n",
    "\n",
    "rm_l2k8_lhrh = np.concatenate([rm_l2k8_lh, rm_l2k8_rh_p1], axis=0)\n",
    "rm_l2k8_lhrh\n",
    "\n",
    "hemi = np.ones_like(rm_l2k8_lhrh)\n",
    "hemi[:10242] = 0\n",
    "hemi"
   ]
  },
  {
   "cell_type": "markdown",
   "metadata": {},
   "source": [
    "Define some functions"
   ]
  },
  {
   "cell_type": "code",
   "execution_count": 7,
   "metadata": {},
   "outputs": [],
   "source": [
    "def get_psweep_dfs(ps_res,mul_cols=1.,mul_rows=1.):\n",
    "    \n",
    "    # Mean activity\n",
    "    df = ps_res['all_dat']['e'][0].unstack('t').mean(axis=1).unstack('stim_freq').iloc[::-1,:].copy()\n",
    "    df.columns = df.columns * mul_cols\n",
    "    df.index = df.index * mul_rows\n",
    "    df.columns = ['%1.2f' %f for f in df.columns]\n",
    "    df.index = ['%1.2f' %f for f in df.index]\n",
    "    df_mn = df\n",
    "    \n",
    "    # Periodogram maximum frequency\n",
    "    df =  ps_res['all_per_maxfreqs']['e'].unstack('stim_freq').iloc[::-1,:].copy()\n",
    "    df.columns = df.columns * mul_cols\n",
    "    df.index = df.index * mul_rows\n",
    "    df.columns = ['%1.2f' %f for f in df.columns]\n",
    "    df.index = ['%1.2f' %f for f in df.index]\n",
    "    df_pmf = df\n",
    "\n",
    "    # Periodogram maximum amplitude\n",
    "    df = ps_res['all_per_maxamps']['e'].unstack('stim_freq').iloc[::-1,:].copy()\n",
    "    df.columns = df.columns * mul_cols\n",
    "    df.index = df.index * mul_rows\n",
    "    df.columns = ['%1.2f' %f for f in df.columns]\n",
    "    df.index = ['%1.2f' %f for f in df.index]\n",
    "    df_pma =  df\n",
    "\n",
    "    # Welch maximum frequency\n",
    "    df = ps_res['all_wel_maxfreqs']['e'].unstack('stim_freq').iloc[::-1,:].copy()\n",
    "    df.columns = df.columns * mul_cols\n",
    "    df.index = df.index * mul_rows\n",
    "    df.columns = ['%1.2f' %f for f in df.columns]\n",
    "    df.index = ['%1.2f' %f for f in df.index]\n",
    "    df_wmf = df\n",
    "\n",
    "    # Welch maximum amplitude\n",
    "    df = ps_res['all_wel_maxamps']['e'].unstack('stim_freq').iloc[::-1,:].copy()\n",
    "    df.columns = df.columns * mul_cols\n",
    "    df.index = df.index * mul_rows\n",
    "    df.columns = ['%1.2f' %f for f in df.columns]\n",
    "    df.index = ['%1.2f' %f for f in df.index]\n",
    "    df_wma = df\n",
    "\n",
    "    return df_mn,df_pmf,df_pma,df_wmf,df_wma"
   ]
  },
  {
   "cell_type": "markdown",
   "metadata": {},
   "source": [
    "## Do it"
   ]
  },
  {
   "cell_type": "code",
   "execution_count": 8,
   "metadata": {},
   "outputs": [],
   "source": [
    "ssX_params = dict(I_o=0.,\n",
    "             wee = 1.4,wei = 1.4,\n",
    "                  wie = -2.,wii = -0.5,wertn = 0.6,weth = .6,\n",
    "            wthi = 0.2,wthe = 1.65,wrtnth = -2.,wthrtn = 2.,D_e = .0001,D_i= .0001,\n",
    "            D_th = 0.0001,D_rtn = 0.0001,T = 1024,P=1,Q = 1,Dt = 0.001,\n",
    "            dt = 0.1,gain = 20.,threshold = 0.,Pi = 3.14159,g = -0.9,a_e = 0.3,\n",
    "            a_i = 0.5,a_th = 0.2,a_rtn = 0.2,i_e = -0.35,i_i = -0.3,i_th = 0.5,\n",
    "            i_rtn = -0.8,tau1  = 20.,tau2 = 5.,T_transient=1000,\n",
    "            stim_freq=35.,stim_amp=0.5,\n",
    "             weights=weights_1N,delays=delays_1N,K=1,\n",
    "             return_ts=True,compute_connectivity=False,#True,\n",
    "             stim_type='sinewave',stim_pops=['e'])"
   ]
  },
  {
   "cell_type": "code",
   "execution_count": 9,
   "metadata": {},
   "outputs": [],
   "source": [
    "ssX_r_params = deepcopy(ssX_params)\n",
    "ssX_r_params['I_o'] = 0.\n",
    "\n",
    "ssX_t_params = deepcopy(ssX_params)\n",
    "ssX_t_params['I_o'] = 1.5"
   ]
  },
  {
   "cell_type": "code",
   "execution_count": 10,
   "metadata": {},
   "outputs": [
    {
     "name": "stdout",
     "output_type": "stream",
     "text": [
      "started: 2019-06-11 12:19:03.966138\n",
      "finished: 2019-06-11 12:21:21.099362\n",
      "duration: 0:02:17.133224\n",
      "started: 2019-06-11 12:21:21.474952\n",
      "finished: 2019-06-11 12:22:47.886372\n",
      "duration: 0:01:26.411420\n",
      "CPU times: user 14.7 s, sys: 952 ms, total: 15.6 s\n",
      "Wall time: 3min 44s\n"
     ]
    }
   ],
   "source": [
    "%%time\n",
    "\n",
    "ssX_lfr_r_res = FreqVsAmpPsweep(ssX_r_params,freqs_s,amps_s,n_jobs=8,concat_res=True,return_ts=True) \n",
    "ssX_lfr_r_dfs = get_psweep_dfs(ssX_lfr_r_res)\n",
    "\n",
    "ssX_lfr_t_res = FreqVsAmpPsweep(ssX_t_params,freqs_s,amps_s,n_jobs=8,concat_res=True,return_ts=True) \n",
    "ssX_lfr_t_dfs = get_psweep_dfs(ssX_lfr_t_res)"
   ]
  },
  {
   "cell_type": "code",
   "execution_count": 11,
   "metadata": {},
   "outputs": [
    {
     "name": "stdout",
     "output_type": "stream",
     "text": [
      "started: 2019-06-11 12:22:48.387818\n",
      "finished: 2019-06-11 12:29:28.718363\n",
      "duration: 0:06:40.330545\n",
      "started: 2019-06-11 12:29:30.285559\n",
      "finished: 2019-06-11 12:36:16.591147\n",
      "duration: 0:06:46.305588\n",
      "CPU times: user 1min 2s, sys: 5.18 s, total: 1min 8s\n",
      "Wall time: 13min 29s\n"
     ]
    }
   ],
   "source": [
    "%%time\n",
    "ssX_hfr_r_res = FreqVsAmpPsweep(ssX_r_params,freqs_l,amps_l,n_jobs=8,concat_res=True,return_ts=True) \n",
    "ssX_hfr_r_dfs = get_psweep_dfs(ssX_hfr_r_res)\n",
    "\n",
    "ssX_hfr_t_res = FreqVsAmpPsweep(ssX_t_params,freqs_l,amps_l,n_jobs=8,concat_res=True,return_ts=True) \n",
    "ssX_hfr_t_dfs = get_psweep_dfs(ssX_hfr_t_res)"
   ]
  },
  {
   "cell_type": "code",
   "execution_count": 12,
   "metadata": {},
   "outputs": [
    {
     "data": {
      "image/png": "[encoded data removed]",
      "text/plain": [
       "<Figure size 864x576 with 8 Axes>"
      ]
     },
     "metadata": {
      "needs_background": "light"
     },
     "output_type": "display_data"
    }
   ],
   "source": [
    "df_mn_r,df_pmf_r,df_pma_r,df_wmf_r,df_wma_r =  ssX_hfr_r_dfs # ps2_dfs_2['1N_r_spiketrain_hfr']\n",
    "df_mn_t,df_pmf_t,df_pma_t,df_wmf_t,df_wma_t = ssX_hfr_t_dfs\n",
    "\n",
    "fig, ax = plt.subplots(ncols=2,nrows=2, figsize=(12,8))\n",
    "\n",
    "\n",
    "\"\"\"\n",
    "1. Maximum frequency responses\n",
    "\"\"\"\n",
    "a = ax[0][0]\n",
    "sns.heatmap(df_pmf_r,ax=a,cmap=cm.cubehelix_r,vmin=0,vmax=90)#,vmin=0.,vmax=100.)#,vmax=100.)\n",
    "a.set_title('REST\\n\\n\\nMax. Freq Response', fontweight='bold', fontsize=15)\n",
    "a.set_ylabel('\\nStimulation Amp (mV)',fontweight='bold')\n",
    "a.set_xticklabels('')\n",
    " \n",
    "a= ax[0][1]\n",
    "sns.heatmap(df_pmf_t,ax=a,cmap=cm.cubehelix_r,vmin=0,vmax=90)#,vmin=0.,vmax=100.)#,vmax=100.)\n",
    "a.set_title('TASK\\n\\n\\nMax. Freq Response ', fontweight='bold', fontsize=15)\n",
    "a.set_xticklabels('')\n",
    "a.set_yticklabels('')\n",
    "\n",
    "\n",
    "\n",
    "\"\"\"\n",
    "2. Maximum amplitude responses\n",
    "\"\"\"\n",
    "\n",
    "a= ax[1][0]\n",
    "sns.heatmap(df_pma_r,ax=a,cmap=cm.GnBu,vmin=0,vmax=0.05)#cividis)#,vmin=0.,vmax=0.02)#$,vmax=0.1)\n",
    "a.set_title('\\nMax. Amp Response', fontweight='bold', fontsize=15)\n",
    "a.set_xlabel('\\nStimulation Freq (Hz)', fontweight='bold')\n",
    "a.set_ylabel('\\nStimulation Amp (mV)',fontweight='bold')\n",
    "\n",
    "a= ax[1][1]\n",
    "sns.heatmap(df_pma_t,ax=a,cmap=cm.GnBu,vmin=0,vmax=0.01)#gist_rainbow)#,vmin=0.,vmax=0.02)#,vmax=0.02)#,vmax=0.1)\n",
    "a.set_title('\\nMax. Amp Response', fontweight='bold', fontsize=15)\n",
    "a.set_xlabel('\\nStimulation Freq (Hz)', fontweight='bold')\n",
    "a.set_yticklabels('')\n",
    "\n",
    "\n",
    "plt.tight_layout()\n",
    "\n",
    "\n",
    "#plt.savefig('FigX.png', bbox_inches='tight', transparent=True,dpi=600)\n",
    "#plt.close()\n",
    "\n",
    "\n",
    "#Image('FigX.png')"
   ]
  },
  {
   "cell_type": "code",
   "execution_count": 13,
   "metadata": {},
   "outputs": [],
   "source": [
    "# TUESDAY - IF THE FIG ABOVE IS PRODUCED, GOOD. \n",
    "\n",
    "# THEN NEED TO RE-DO WITH NEW PARAMS..."
   ]
  },
  {
   "cell_type": "code",
   "execution_count": null,
   "metadata": {},
   "outputs": [],
   "source": []
  }
 ],
 "metadata": {
  "kernelspec": {
   "display_name": "Python 3",
   "language": "python",
   "name": "python3"
  },
  "language_info": {
   "codemirror_mode": {
    "name": "ipython",
    "version": 3
   },
   "file_extension": ".py",
   "mimetype": "text/x-python",
   "name": "python",
   "nbconvert_exporter": "python",
   "pygments_lexer": "ipython3",
   "version": "3.7.3"
  },
  "nbTranslate": {
   "displayLangs": [
    "*"
   ],
   "hotkey": "alt-t",
   "langInMainMenu": true,
   "sourceLang": "en",
   "targetLang": "fr",
   "useGoogleTranslate": true
  },
  "toc": {
   "base_numbering": 1,
   "nav_menu": {},
   "number_sections": false,
   "sideBar": true,
   "skip_h1_title": false,
   "title_cell": "Table of Contents",
   "title_sidebar": "Contents",
   "toc_cell": true,
   "toc_position": {
    "height": "calc(100% - 180px)",
    "left": "10px",
    "top": "150px",
    "width": "185px"
   },
   "toc_section_display": true,
   "toc_window_display": true
  }
 },
 "nbformat": 4,
 "nbformat_minor": 2
}
